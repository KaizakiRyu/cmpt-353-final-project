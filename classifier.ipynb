{
 "cells": [
  {
   "cell_type": "code",
   "execution_count": 1,
   "metadata": {},
   "outputs": [],
   "source": [
    "import numpy as np\n",
    "import pandas as pd\n",
    "import datetime\n",
    "import matplotlib.pyplot as plt\n",
    "from statsmodels.nonparametric.smoothers_lowess import lowess\n",
    "from scipy import stats\n",
    "from scipy.stats import linregress\n",
    "import seaborn as sns\n",
    "import datetime as dt\n",
    "\n",
    "from sklearn.linear_model import LinearRegression\n",
    "from sklearn.preprocessing import PolynomialFeatures\n",
    "from sklearn.pipeline import make_pipeline\n",
    "from sklearn.model_selection import train_test_split\n",
    "\n",
    "from sklearn.ensemble import GradientBoostingClassifier\n",
    "from sklearn.ensemble import RandomForestClassifier\n",
    "from sklearn.ensemble import GradientBoostingClassifier\n",
    "from sklearn.tree import DecisionTreeClassifier\n",
    "from sklearn.neighbors import KNeighborsClassifier\n",
    "from sklearn.neural_network import MLPClassifier\n",
    "\n",
    "from sklearn import preprocessing\n",
    "from sklearn.naive_bayes import GaussianNB\n",
    "\n",
    "from sklearn.metrics import roc_curve, auc\n",
    "from sklearn.metrics import classification_report\n",
    "from sklearn.model_selection import GridSearchCV\n",
    "\n",
    "from joblib import dump, load\n",
    "\n",
    "sns.set()"
   ]
  },
  {
   "cell_type": "code",
   "execution_count": 2,
   "metadata": {},
   "outputs": [
    {
     "data": {
      "text/html": [
       "<div>\n",
       "<style scoped>\n",
       "    .dataframe tbody tr th:only-of-type {\n",
       "        vertical-align: middle;\n",
       "    }\n",
       "\n",
       "    .dataframe tbody tr th {\n",
       "        vertical-align: top;\n",
       "    }\n",
       "\n",
       "    .dataframe thead th {\n",
       "        text-align: right;\n",
       "    }\n",
       "</style>\n",
       "<table border=\"1\" class=\"dataframe\">\n",
       "  <thead>\n",
       "    <tr style=\"text-align: right;\">\n",
       "      <th></th>\n",
       "      <th>TYPE</th>\n",
       "      <th>YEAR</th>\n",
       "      <th>MONTH</th>\n",
       "      <th>DAY</th>\n",
       "      <th>HOUR</th>\n",
       "      <th>MINUTE</th>\n",
       "      <th>HUNDRED_BLOCK</th>\n",
       "      <th>NEIGHBOURHOOD</th>\n",
       "      <th>LAT</th>\n",
       "      <th>LON</th>\n",
       "      <th>DATETIME</th>\n",
       "    </tr>\n",
       "  </thead>\n",
       "  <tbody>\n",
       "    <tr>\n",
       "      <td>12736</td>\n",
       "      <td>Theft of Bicycle</td>\n",
       "      <td>2012</td>\n",
       "      <td>1</td>\n",
       "      <td>1</td>\n",
       "      <td>12</td>\n",
       "      <td>0</td>\n",
       "      <td>22XX W BROADWAY AVE</td>\n",
       "      <td>Kitsilano</td>\n",
       "      <td>49.263854</td>\n",
       "      <td>-123.157311</td>\n",
       "      <td>2012-01-01 12:00:00</td>\n",
       "    </tr>\n",
       "    <tr>\n",
       "      <td>12737</td>\n",
       "      <td>Theft of Bicycle</td>\n",
       "      <td>2012</td>\n",
       "      <td>1</td>\n",
       "      <td>1</td>\n",
       "      <td>12</td>\n",
       "      <td>0</td>\n",
       "      <td>23XX W 5TH AVE</td>\n",
       "      <td>Kitsilano</td>\n",
       "      <td>49.267415</td>\n",
       "      <td>-123.159482</td>\n",
       "      <td>2012-01-01 12:00:00</td>\n",
       "    </tr>\n",
       "    <tr>\n",
       "      <td>12738</td>\n",
       "      <td>Theft of Bicycle</td>\n",
       "      <td>2012</td>\n",
       "      <td>1</td>\n",
       "      <td>1</td>\n",
       "      <td>16</td>\n",
       "      <td>59</td>\n",
       "      <td>7XX JACKSON AVE</td>\n",
       "      <td>Strathcona</td>\n",
       "      <td>49.278221</td>\n",
       "      <td>-123.093622</td>\n",
       "      <td>2012-01-01 16:59:00</td>\n",
       "    </tr>\n",
       "    <tr>\n",
       "      <td>12739</td>\n",
       "      <td>Theft of Bicycle</td>\n",
       "      <td>2012</td>\n",
       "      <td>1</td>\n",
       "      <td>1</td>\n",
       "      <td>17</td>\n",
       "      <td>0</td>\n",
       "      <td>11XX W 13TH AVE</td>\n",
       "      <td>Fairview</td>\n",
       "      <td>49.259737</td>\n",
       "      <td>-123.130651</td>\n",
       "      <td>2012-01-01 17:00:00</td>\n",
       "    </tr>\n",
       "    <tr>\n",
       "      <td>12740</td>\n",
       "      <td>Theft of Bicycle</td>\n",
       "      <td>2012</td>\n",
       "      <td>1</td>\n",
       "      <td>2</td>\n",
       "      <td>0</td>\n",
       "      <td>1</td>\n",
       "      <td>35XX MOSCROP ST</td>\n",
       "      <td>Renfrew-Collingwood</td>\n",
       "      <td>49.243463</td>\n",
       "      <td>-123.027149</td>\n",
       "      <td>2012-01-02 00:01:00</td>\n",
       "    </tr>\n",
       "    <tr>\n",
       "      <td>...</td>\n",
       "      <td>...</td>\n",
       "      <td>...</td>\n",
       "      <td>...</td>\n",
       "      <td>...</td>\n",
       "      <td>...</td>\n",
       "      <td>...</td>\n",
       "      <td>...</td>\n",
       "      <td>...</td>\n",
       "      <td>...</td>\n",
       "      <td>...</td>\n",
       "      <td>...</td>\n",
       "    </tr>\n",
       "    <tr>\n",
       "      <td>30974</td>\n",
       "      <td>Theft of Bicycle</td>\n",
       "      <td>2019</td>\n",
       "      <td>10</td>\n",
       "      <td>22</td>\n",
       "      <td>13</td>\n",
       "      <td>45</td>\n",
       "      <td>20XX W 4TH AVE</td>\n",
       "      <td>Kitsilano</td>\n",
       "      <td>49.268138</td>\n",
       "      <td>-123.151383</td>\n",
       "      <td>2019-10-22 13:45:00</td>\n",
       "    </tr>\n",
       "    <tr>\n",
       "      <td>30975</td>\n",
       "      <td>Theft of Bicycle</td>\n",
       "      <td>2019</td>\n",
       "      <td>10</td>\n",
       "      <td>22</td>\n",
       "      <td>18</td>\n",
       "      <td>15</td>\n",
       "      <td>27XX W BROADWAY AVE</td>\n",
       "      <td>Kitsilano</td>\n",
       "      <td>49.264101</td>\n",
       "      <td>-123.167048</td>\n",
       "      <td>2019-10-22 18:15:00</td>\n",
       "    </tr>\n",
       "    <tr>\n",
       "      <td>30976</td>\n",
       "      <td>Theft of Bicycle</td>\n",
       "      <td>2019</td>\n",
       "      <td>10</td>\n",
       "      <td>22</td>\n",
       "      <td>20</td>\n",
       "      <td>34</td>\n",
       "      <td>63XX YEW ST</td>\n",
       "      <td>Kerrisdale</td>\n",
       "      <td>49.228779</td>\n",
       "      <td>-123.158805</td>\n",
       "      <td>2019-10-22 20:34:00</td>\n",
       "    </tr>\n",
       "    <tr>\n",
       "      <td>30977</td>\n",
       "      <td>Theft of Bicycle</td>\n",
       "      <td>2019</td>\n",
       "      <td>10</td>\n",
       "      <td>23</td>\n",
       "      <td>22</td>\n",
       "      <td>48</td>\n",
       "      <td>39XX W 38TH AVE</td>\n",
       "      <td>Dunbar-Southlands</td>\n",
       "      <td>49.237564</td>\n",
       "      <td>-123.191084</td>\n",
       "      <td>2019-10-23 22:48:00</td>\n",
       "    </tr>\n",
       "    <tr>\n",
       "      <td>30978</td>\n",
       "      <td>Theft of Bicycle</td>\n",
       "      <td>2019</td>\n",
       "      <td>10</td>\n",
       "      <td>24</td>\n",
       "      <td>17</td>\n",
       "      <td>15</td>\n",
       "      <td>10XX W GEORGIA ST</td>\n",
       "      <td>West End</td>\n",
       "      <td>49.284419</td>\n",
       "      <td>-123.121202</td>\n",
       "      <td>2019-10-24 17:15:00</td>\n",
       "    </tr>\n",
       "  </tbody>\n",
       "</table>\n",
       "<p>18190 rows × 11 columns</p>\n",
       "</div>"
      ],
      "text/plain": [
       "                   TYPE  YEAR  MONTH  DAY  HOUR  MINUTE        HUNDRED_BLOCK  \\\n",
       "12736  Theft of Bicycle  2012      1    1    12       0  22XX W BROADWAY AVE   \n",
       "12737  Theft of Bicycle  2012      1    1    12       0       23XX W 5TH AVE   \n",
       "12738  Theft of Bicycle  2012      1    1    16      59      7XX JACKSON AVE   \n",
       "12739  Theft of Bicycle  2012      1    1    17       0      11XX W 13TH AVE   \n",
       "12740  Theft of Bicycle  2012      1    2     0       1      35XX MOSCROP ST   \n",
       "...                 ...   ...    ...  ...   ...     ...                  ...   \n",
       "30974  Theft of Bicycle  2019     10   22    13      45       20XX W 4TH AVE   \n",
       "30975  Theft of Bicycle  2019     10   22    18      15  27XX W BROADWAY AVE   \n",
       "30976  Theft of Bicycle  2019     10   22    20      34          63XX YEW ST   \n",
       "30977  Theft of Bicycle  2019     10   23    22      48      39XX W 38TH AVE   \n",
       "30978  Theft of Bicycle  2019     10   24    17      15    10XX W GEORGIA ST   \n",
       "\n",
       "             NEIGHBOURHOOD        LAT         LON            DATETIME  \n",
       "12736            Kitsilano  49.263854 -123.157311 2012-01-01 12:00:00  \n",
       "12737            Kitsilano  49.267415 -123.159482 2012-01-01 12:00:00  \n",
       "12738           Strathcona  49.278221 -123.093622 2012-01-01 16:59:00  \n",
       "12739             Fairview  49.259737 -123.130651 2012-01-01 17:00:00  \n",
       "12740  Renfrew-Collingwood  49.243463 -123.027149 2012-01-02 00:01:00  \n",
       "...                    ...        ...         ...                 ...  \n",
       "30974            Kitsilano  49.268138 -123.151383 2019-10-22 13:45:00  \n",
       "30975            Kitsilano  49.264101 -123.167048 2019-10-22 18:15:00  \n",
       "30976           Kerrisdale  49.228779 -123.158805 2019-10-22 20:34:00  \n",
       "30977    Dunbar-Southlands  49.237564 -123.191084 2019-10-23 22:48:00  \n",
       "30978             West End  49.284419 -123.121202 2019-10-24 17:15:00  \n",
       "\n",
       "[18190 rows x 11 columns]"
      ]
     },
     "execution_count": 2,
     "metadata": {},
     "output_type": "execute_result"
    }
   ],
   "source": [
    "data = pd.read_csv(\"clean_bike_data.csv\")\n",
    "data['DATETIME'] =  pd.to_datetime(data['DATETIME'], infer_datetime_format=True)\n",
    "data = data[data[\"YEAR\"] >= 2012]\n",
    "data = data.dropna()\n",
    "data"
   ]
  },
  {
   "cell_type": "markdown",
   "metadata": {},
   "source": [
    "# 7. Bike Theft Prediction"
   ]
  },
  {
   "cell_type": "code",
   "execution_count": 3,
   "metadata": {},
   "outputs": [],
   "source": [
    "le_neigh = preprocessing.LabelEncoder()\n",
    "le_block = preprocessing.LabelEncoder()\n",
    "le_weath = preprocessing.LabelEncoder()\n",
    "\n",
    "df_class = data.copy(deep=True)\n",
    "df_class[\"NEIGHBOURHOOD\"] = df_class[\"NEIGHBOURHOOD\"].apply(lambda x: str(x))\n",
    "df_class[\"HUNDRED_BLOCK\"] = df_class[\"HUNDRED_BLOCK\"].apply(lambda x: str(x))\n",
    "# df_class[\"WEATHER\"] = df_class[\"WEATHER\"]\n",
    "\n",
    "\n",
    "le_neigh.fit(df_class[\"NEIGHBOURHOOD\"])\n",
    "df_class[\"NEIGHBOURHOOD\"] = le_neigh.transform(df_class[\"NEIGHBOURHOOD\"])\n",
    "\n",
    "le_block.fit(df_class[\"HUNDRED_BLOCK\"])\n",
    "df_class[\"HUNDRED_BLOCK\"] = le_block.transform(df_class[\"HUNDRED_BLOCK\"])\n",
    "\n",
    "# le_weath.fit(df_class[\"WEATHER\"])\n",
    "# df_class[\"WEATHER\"] = le_weath.transform(df_class[\"WEATHER\"])"
   ]
  },
  {
   "cell_type": "code",
   "execution_count": 4,
   "metadata": {},
   "outputs": [],
   "source": [
    "X = df_class[[\"MONTH\", \"DAY\", \"NEIGHBOURHOOD\", \"HUNDRED_BLOCK\"]]\n",
    "y = df_class[\"HOUR\"]\n",
    "\n",
    "X_train, X_valid, y_train, y_valid = train_test_split(X, y, test_size=0.80)"
   ]
  },
  {
   "cell_type": "markdown",
   "metadata": {},
   "source": [
    "# Saved Model Scores"
   ]
  },
  {
   "cell_type": "code",
   "execution_count": 17,
   "metadata": {},
   "outputs": [],
   "source": [
    "dtc = load('models/DecisionTreeClassifier.joblib')\n",
    "g = load('models/GaussianNB.joblib') \n",
    "rfc = load('models/RandomForestClassifier.joblib') \n",
    "gbc = load('models/GradientBoostingClassifier.joblib') "
   ]
  },
  {
   "cell_type": "code",
   "execution_count": 18,
   "metadata": {},
   "outputs": [
    {
     "name": "stdout",
     "output_type": "stream",
     "text": [
      "Decision Tree Train:  0.09703133589884552\n",
      "Decision Tree Valid:  0.08026388125343595\n"
     ]
    }
   ],
   "source": [
    "print(\"Decision Tree Train: \", dtc.score(X_train, y_train))\n",
    "print(\"Decision Tree Valid: \", dtc.score(X_valid, y_valid))"
   ]
  },
  {
   "cell_type": "code",
   "execution_count": 19,
   "metadata": {},
   "outputs": [
    {
     "name": "stdout",
     "output_type": "stream",
     "text": [
      "Bayes Train:  0.09098405717427158\n",
      "Bayes Valid:  0.08431830676195712\n"
     ]
    }
   ],
   "source": [
    "print(\"Bayes Train: \", g.score(X_train, y_train))\n",
    "print(\"Bayes Valid: \",g.score(X_valid, y_valid))"
   ]
  },
  {
   "cell_type": "code",
   "execution_count": 20,
   "metadata": {},
   "outputs": [
    {
     "name": "stdout",
     "output_type": "stream",
     "text": [
      "Random Forest Train:  0.13056624518966464\n",
      "Random Forest Valid:  0.08424958768554151\n"
     ]
    }
   ],
   "source": [
    "print(\"Random Forest Train: \", rfc.score(X_train, y_train))\n",
    "print(\"Random Forest Valid: \", rfc.score(X_valid, y_valid))"
   ]
  },
  {
   "cell_type": "code",
   "execution_count": 21,
   "metadata": {},
   "outputs": [
    {
     "name": "stdout",
     "output_type": "stream",
     "text": [
      "Gradient Boost Train:  0.33782297965915337\n",
      "Gradient Boost Valid:  0.07153655854865311\n"
     ]
    }
   ],
   "source": [
    "print(\"Gradient Boost Train: \", gbc.score(X_train, y_train))\n",
    "print(\"Gradient Boost Valid: \", gbc.score(X_valid, y_valid))"
   ]
  },
  {
   "cell_type": "markdown",
   "metadata": {},
   "source": [
    "# Model Training\n",
    "\n",
    "Only run if you want to re-train the model"
   ]
  },
  {
   "cell_type": "markdown",
   "metadata": {},
   "source": [
    "### Decision Tree"
   ]
  },
  {
   "cell_type": "code",
   "execution_count": 5,
   "metadata": {},
   "outputs": [
    {
     "name": "stdout",
     "output_type": "stream",
     "text": [
      "0.09703133589884552\n",
      "0.08026388125343595\n",
      "{'max_depth': 1}\n"
     ]
    },
    {
     "data": {
      "text/plain": [
       "['models/DecisionTreeClassifier.joblib']"
      ]
     },
     "execution_count": 5,
     "metadata": {},
     "output_type": "execute_result"
    }
   ],
   "source": [
    "model = DecisionTreeClassifier(max_depth=4)\n",
    "model.fit(X_train, y_train)\n",
    "\n",
    "print(model.score(X_train, y_train))\n",
    "print(model.score(X_valid, y_valid))\n",
    "\n",
    "p_test = {'max_depth':[1,2,3,4,5,6,7,8,9,10]}\n",
    "\n",
    "tuning = GridSearchCV(estimator=DecisionTreeClassifier(),\n",
    "                      param_grid = p_test,\n",
    "                      scoring='accuracy',\n",
    "                      n_jobs=6,\n",
    "                      cv=5,\n",
    "                      iid=False)\n",
    "\n",
    "tuning.fit(X_train, y_train)\n",
    "print(tuning.best_params_)\n",
    "\n",
    "dump(model, 'models/DecisionTreeClassifier.joblib') "
   ]
  },
  {
   "cell_type": "markdown",
   "metadata": {},
   "source": [
    "### Random Forest"
   ]
  },
  {
   "cell_type": "code",
   "execution_count": 6,
   "metadata": {},
   "outputs": [
    {
     "name": "stdout",
     "output_type": "stream",
     "text": [
      "{'max_depth': 4, 'n_estimators': 40}\n",
      "0.13056624518966464\n",
      "0.08424958768554151\n"
     ]
    },
    {
     "data": {
      "text/plain": [
       "['models/RandomForestClassifier.joblib']"
      ]
     },
     "execution_count": 6,
     "metadata": {},
     "output_type": "execute_result"
    }
   ],
   "source": [
    "p_test = {'max_depth': [1,2,3,4,5,6,7,8,9,10],\n",
    "         'n_estimators': [10, 20, 30, 40, 50]}\n",
    "\n",
    "tuning = GridSearchCV(estimator=RandomForestClassifier(),\n",
    "                      param_grid = p_test,\n",
    "                      scoring='accuracy',\n",
    "                      n_jobs=6,\n",
    "                      cv=5,\n",
    "                      iid=False)\n",
    "\n",
    "tuning.fit(X_train, y_train)\n",
    "print(tuning.best_params_)\n",
    "\n",
    "model = RandomForestClassifier(n_estimators=tuning.best_params_[\"n_estimators\"],\n",
    "                               max_depth=tuning.best_params_[\"max_depth\"])\n",
    "model.fit(X_train, y_train)\n",
    "\n",
    "print(model.score(X_train, y_train))\n",
    "print(model.score(X_valid, y_valid))\n",
    "\n",
    "dump(model, 'models/RandomForestClassifier.joblib') "
   ]
  },
  {
   "cell_type": "markdown",
   "metadata": {},
   "source": [
    "### Bayes"
   ]
  },
  {
   "cell_type": "code",
   "execution_count": 7,
   "metadata": {},
   "outputs": [
    {
     "name": "stdout",
     "output_type": "stream",
     "text": [
      "0.09098405717427158\n",
      "0.08431830676195712\n"
     ]
    },
    {
     "data": {
      "text/plain": [
       "['models/GaussianNB.joblib']"
      ]
     },
     "execution_count": 7,
     "metadata": {},
     "output_type": "execute_result"
    }
   ],
   "source": [
    "model1 = GaussianNB()\n",
    "model1.fit(X_train, y_train)\n",
    "\n",
    "print(model1.score(X_train, y_train))\n",
    "print(model1.score(X_valid, y_valid))\n",
    "\n",
    "dump(model1, 'models/GaussianNB.joblib') "
   ]
  },
  {
   "cell_type": "markdown",
   "metadata": {},
   "source": [
    "### Gradient Boosting"
   ]
  },
  {
   "cell_type": "code",
   "execution_count": 16,
   "metadata": {},
   "outputs": [
    {
     "name": "stdout",
     "output_type": "stream",
     "text": [
      "0.33782297965915337\n",
      "0.07153655854865311\n"
     ]
    },
    {
     "data": {
      "text/plain": [
       "['models/GradientBoostingClassifier.joblib']"
      ]
     },
     "execution_count": 16,
     "metadata": {},
     "output_type": "execute_result"
    }
   ],
   "source": [
    "model = GradientBoostingClassifier(n_estimators=40)\n",
    "model.fit(X_train, y_train)\n",
    "\n",
    "print(model.score(X_train, y_train))\n",
    "print(model.score(X_valid, y_valid))\n",
    "\n",
    "dump(model, 'models/GradientBoostingClassifier.joblib') "
   ]
  },
  {
   "cell_type": "code",
   "execution_count": null,
   "metadata": {},
   "outputs": [],
   "source": []
  }
 ],
 "metadata": {
  "kernelspec": {
   "display_name": "Python 3",
   "language": "python",
   "name": "python3"
  },
  "language_info": {
   "codemirror_mode": {
    "name": "ipython",
    "version": 3
   },
   "file_extension": ".py",
   "mimetype": "text/x-python",
   "name": "python",
   "nbconvert_exporter": "python",
   "pygments_lexer": "ipython3",
   "version": "3.7.5"
  }
 },
 "nbformat": 4,
 "nbformat_minor": 2
}
