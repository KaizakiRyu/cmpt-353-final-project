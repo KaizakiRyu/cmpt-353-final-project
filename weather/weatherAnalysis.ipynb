{
 "cells": [
  {
   "cell_type": "code",
   "execution_count": 27,
   "metadata": {},
   "outputs": [],
   "source": [
    "import numpy as np\n",
    "import pandas as pd\n",
    "import utm\n",
    "import datetime\n",
    "import calendar\n",
    "import matplotlib.pyplot as plt\n",
    "import seaborn as sns\n",
    "from sklearn import datasets\n",
    "from scipy import stats"
   ]
  },
  {
   "cell_type": "markdown",
   "metadata": {},
   "source": [
    "# Determining whether bike theft is related to the weather of the day"
   ]
  },
  {
   "cell_type": "code",
   "execution_count": 2,
   "metadata": {},
   "outputs": [
    {
     "data": {
      "text/html": [
       "<div>\n",
       "<style scoped>\n",
       "    .dataframe tbody tr th:only-of-type {\n",
       "        vertical-align: middle;\n",
       "    }\n",
       "\n",
       "    .dataframe tbody tr th {\n",
       "        vertical-align: top;\n",
       "    }\n",
       "\n",
       "    .dataframe thead th {\n",
       "        text-align: right;\n",
       "    }\n",
       "</style>\n",
       "<table border=\"1\" class=\"dataframe\">\n",
       "  <thead>\n",
       "    <tr style=\"text-align: right;\">\n",
       "      <th></th>\n",
       "      <th>TYPE</th>\n",
       "      <th>YEAR</th>\n",
       "      <th>MONTH</th>\n",
       "      <th>DAY</th>\n",
       "      <th>HOUR</th>\n",
       "      <th>MINUTE</th>\n",
       "      <th>HUNDRED_BLOCK</th>\n",
       "      <th>NEIGHBOURHOOD</th>\n",
       "      <th>LAT</th>\n",
       "      <th>LON</th>\n",
       "      <th>DATETIME</th>\n",
       "    </tr>\n",
       "  </thead>\n",
       "  <tbody>\n",
       "    <tr>\n",
       "      <th>0</th>\n",
       "      <td>Theft of Bicycle</td>\n",
       "      <td>2003</td>\n",
       "      <td>1</td>\n",
       "      <td>1</td>\n",
       "      <td>0</td>\n",
       "      <td>0</td>\n",
       "      <td>30XX W 4TH AVE</td>\n",
       "      <td>Kitsilano</td>\n",
       "      <td>49.268399</td>\n",
       "      <td>-123.172906</td>\n",
       "      <td>2003-01-01 00:00:00</td>\n",
       "    </tr>\n",
       "    <tr>\n",
       "      <th>1</th>\n",
       "      <td>Theft of Bicycle</td>\n",
       "      <td>2003</td>\n",
       "      <td>1</td>\n",
       "      <td>1</td>\n",
       "      <td>0</td>\n",
       "      <td>0</td>\n",
       "      <td>6X KEEFER PL</td>\n",
       "      <td>Central Business District</td>\n",
       "      <td>49.279617</td>\n",
       "      <td>-123.106816</td>\n",
       "      <td>2003-01-01 00:00:00</td>\n",
       "    </tr>\n",
       "    <tr>\n",
       "      <th>2</th>\n",
       "      <td>Theft of Bicycle</td>\n",
       "      <td>2003</td>\n",
       "      <td>1</td>\n",
       "      <td>1</td>\n",
       "      <td>0</td>\n",
       "      <td>5</td>\n",
       "      <td>11XX HORNBY ST</td>\n",
       "      <td>Central Business District</td>\n",
       "      <td>49.278700</td>\n",
       "      <td>-123.127790</td>\n",
       "      <td>2003-01-01 00:05:00</td>\n",
       "    </tr>\n",
       "    <tr>\n",
       "      <th>3</th>\n",
       "      <td>Theft of Bicycle</td>\n",
       "      <td>2003</td>\n",
       "      <td>1</td>\n",
       "      <td>1</td>\n",
       "      <td>13</td>\n",
       "      <td>30</td>\n",
       "      <td>X NK_LOC ST</td>\n",
       "      <td>NaN</td>\n",
       "      <td>49.281843</td>\n",
       "      <td>-123.099582</td>\n",
       "      <td>2003-01-01 13:30:00</td>\n",
       "    </tr>\n",
       "    <tr>\n",
       "      <th>4</th>\n",
       "      <td>Theft of Bicycle</td>\n",
       "      <td>2003</td>\n",
       "      <td>1</td>\n",
       "      <td>2</td>\n",
       "      <td>1</td>\n",
       "      <td>0</td>\n",
       "      <td>10XX JERVIS ST</td>\n",
       "      <td>West End</td>\n",
       "      <td>49.284857</td>\n",
       "      <td>-123.131873</td>\n",
       "      <td>2003-01-02 01:00:00</td>\n",
       "    </tr>\n",
       "    <tr>\n",
       "      <th>5</th>\n",
       "      <td>Theft of Bicycle</td>\n",
       "      <td>2003</td>\n",
       "      <td>1</td>\n",
       "      <td>3</td>\n",
       "      <td>0</td>\n",
       "      <td>19</td>\n",
       "      <td>2XX N TEMPLETON DR</td>\n",
       "      <td>Grandview-Woodland</td>\n",
       "      <td>49.286784</td>\n",
       "      <td>-123.059743</td>\n",
       "      <td>2003-01-03 00:19:00</td>\n",
       "    </tr>\n",
       "    <tr>\n",
       "      <th>6</th>\n",
       "      <td>Theft of Bicycle</td>\n",
       "      <td>2003</td>\n",
       "      <td>1</td>\n",
       "      <td>3</td>\n",
       "      <td>20</td>\n",
       "      <td>0</td>\n",
       "      <td>20XX MAPLE ST</td>\n",
       "      <td>Kitsilano</td>\n",
       "      <td>49.267402</td>\n",
       "      <td>-123.150350</td>\n",
       "      <td>2003-01-03 20:00:00</td>\n",
       "    </tr>\n",
       "    <tr>\n",
       "      <th>7</th>\n",
       "      <td>Theft of Bicycle</td>\n",
       "      <td>2003</td>\n",
       "      <td>1</td>\n",
       "      <td>4</td>\n",
       "      <td>3</td>\n",
       "      <td>30</td>\n",
       "      <td>10XX W 14TH AVE</td>\n",
       "      <td>Fairview</td>\n",
       "      <td>49.258707</td>\n",
       "      <td>-123.128553</td>\n",
       "      <td>2003-01-04 03:30:00</td>\n",
       "    </tr>\n",
       "  </tbody>\n",
       "</table>\n",
       "</div>"
      ],
      "text/plain": [
       "               TYPE  YEAR  MONTH  DAY  HOUR  MINUTE       HUNDRED_BLOCK  \\\n",
       "0  Theft of Bicycle  2003      1    1     0       0      30XX W 4TH AVE   \n",
       "1  Theft of Bicycle  2003      1    1     0       0        6X KEEFER PL   \n",
       "2  Theft of Bicycle  2003      1    1     0       5      11XX HORNBY ST   \n",
       "3  Theft of Bicycle  2003      1    1    13      30         X NK_LOC ST   \n",
       "4  Theft of Bicycle  2003      1    2     1       0      10XX JERVIS ST   \n",
       "5  Theft of Bicycle  2003      1    3     0      19  2XX N TEMPLETON DR   \n",
       "6  Theft of Bicycle  2003      1    3    20       0       20XX MAPLE ST   \n",
       "7  Theft of Bicycle  2003      1    4     3      30     10XX W 14TH AVE   \n",
       "\n",
       "               NEIGHBOURHOOD        LAT         LON             DATETIME  \n",
       "0                  Kitsilano  49.268399 -123.172906  2003-01-01 00:00:00  \n",
       "1  Central Business District  49.279617 -123.106816  2003-01-01 00:00:00  \n",
       "2  Central Business District  49.278700 -123.127790  2003-01-01 00:05:00  \n",
       "3                        NaN  49.281843 -123.099582  2003-01-01 13:30:00  \n",
       "4                   West End  49.284857 -123.131873  2003-01-02 01:00:00  \n",
       "5         Grandview-Woodland  49.286784 -123.059743  2003-01-03 00:19:00  \n",
       "6                  Kitsilano  49.267402 -123.150350  2003-01-03 20:00:00  \n",
       "7                   Fairview  49.258707 -123.128553  2003-01-04 03:30:00  "
      ]
     },
     "execution_count": 2,
     "metadata": {},
     "output_type": "execute_result"
    }
   ],
   "source": [
    "crimeData = pd.read_csv(\"clean_bike_data.csv\")\n",
    "crimeData.head(8)"
   ]
  },
  {
   "cell_type": "code",
   "execution_count": 3,
   "metadata": {},
   "outputs": [
    {
     "data": {
      "text/html": [
       "<div>\n",
       "<style scoped>\n",
       "    .dataframe tbody tr th:only-of-type {\n",
       "        vertical-align: middle;\n",
       "    }\n",
       "\n",
       "    .dataframe tbody tr th {\n",
       "        vertical-align: top;\n",
       "    }\n",
       "\n",
       "    .dataframe thead th {\n",
       "        text-align: right;\n",
       "    }\n",
       "</style>\n",
       "<table border=\"1\" class=\"dataframe\">\n",
       "  <thead>\n",
       "    <tr style=\"text-align: right;\">\n",
       "      <th></th>\n",
       "      <th>YEAR</th>\n",
       "      <th>MONTH</th>\n",
       "      <th>DAY</th>\n",
       "      <th>HOUR</th>\n",
       "      <th>WEATHER</th>\n",
       "      <th>DATE</th>\n",
       "      <th>WEATHERCOND</th>\n",
       "    </tr>\n",
       "  </thead>\n",
       "  <tbody>\n",
       "    <tr>\n",
       "      <th>0</th>\n",
       "      <td>2016</td>\n",
       "      <td>1</td>\n",
       "      <td>1</td>\n",
       "      <td>1</td>\n",
       "      <td>Clear</td>\n",
       "      <td>2016-01-01</td>\n",
       "      <td>Good</td>\n",
       "    </tr>\n",
       "    <tr>\n",
       "      <th>1</th>\n",
       "      <td>2016</td>\n",
       "      <td>1</td>\n",
       "      <td>1</td>\n",
       "      <td>4</td>\n",
       "      <td>Clear</td>\n",
       "      <td>2016-01-01</td>\n",
       "      <td>Good</td>\n",
       "    </tr>\n",
       "    <tr>\n",
       "      <th>2</th>\n",
       "      <td>2016</td>\n",
       "      <td>1</td>\n",
       "      <td>1</td>\n",
       "      <td>7</td>\n",
       "      <td>Clear</td>\n",
       "      <td>2016-01-01</td>\n",
       "      <td>Good</td>\n",
       "    </tr>\n",
       "    <tr>\n",
       "      <th>3</th>\n",
       "      <td>2016</td>\n",
       "      <td>1</td>\n",
       "      <td>1</td>\n",
       "      <td>10</td>\n",
       "      <td>Clear</td>\n",
       "      <td>2016-01-01</td>\n",
       "      <td>Good</td>\n",
       "    </tr>\n",
       "    <tr>\n",
       "      <th>4</th>\n",
       "      <td>2016</td>\n",
       "      <td>1</td>\n",
       "      <td>1</td>\n",
       "      <td>13</td>\n",
       "      <td>Clear</td>\n",
       "      <td>2016-01-01</td>\n",
       "      <td>Good</td>\n",
       "    </tr>\n",
       "    <tr>\n",
       "      <th>5</th>\n",
       "      <td>2016</td>\n",
       "      <td>1</td>\n",
       "      <td>1</td>\n",
       "      <td>16</td>\n",
       "      <td>Clear</td>\n",
       "      <td>2016-01-01</td>\n",
       "      <td>Good</td>\n",
       "    </tr>\n",
       "    <tr>\n",
       "      <th>6</th>\n",
       "      <td>2016</td>\n",
       "      <td>1</td>\n",
       "      <td>1</td>\n",
       "      <td>19</td>\n",
       "      <td>Clear</td>\n",
       "      <td>2016-01-01</td>\n",
       "      <td>Good</td>\n",
       "    </tr>\n",
       "    <tr>\n",
       "      <th>7</th>\n",
       "      <td>2016</td>\n",
       "      <td>1</td>\n",
       "      <td>1</td>\n",
       "      <td>22</td>\n",
       "      <td>Clear</td>\n",
       "      <td>2016-01-01</td>\n",
       "      <td>Good</td>\n",
       "    </tr>\n",
       "  </tbody>\n",
       "</table>\n",
       "</div>"
      ],
      "text/plain": [
       "   YEAR  MONTH  DAY  HOUR WEATHER        DATE WEATHERCOND\n",
       "0  2016      1    1     1   Clear  2016-01-01        Good\n",
       "1  2016      1    1     4   Clear  2016-01-01        Good\n",
       "2  2016      1    1     7   Clear  2016-01-01        Good\n",
       "3  2016      1    1    10   Clear  2016-01-01        Good\n",
       "4  2016      1    1    13   Clear  2016-01-01        Good\n",
       "5  2016      1    1    16   Clear  2016-01-01        Good\n",
       "6  2016      1    1    19   Clear  2016-01-01        Good\n",
       "7  2016      1    1    22   Clear  2016-01-01        Good"
      ]
     },
     "execution_count": 3,
     "metadata": {},
     "output_type": "execute_result"
    }
   ],
   "source": [
    "weatherData = pd.read_csv(\"cleanedWeatherData.csv\", parse_dates = [\"DATE/TIME\"])\n",
    "weatherData = weatherData.drop([\"DATE/TIME\",\"MINUTE\"], axis=1)\n",
    "weatherData.head(8)"
   ]
  },
  {
   "cell_type": "markdown",
   "metadata": {},
   "source": [
    "# Merging crime and weather data by year, month, day and hour"
   ]
  },
  {
   "cell_type": "code",
   "execution_count": 4,
   "metadata": {},
   "outputs": [
    {
     "data": {
      "text/html": [
       "<div>\n",
       "<style scoped>\n",
       "    .dataframe tbody tr th:only-of-type {\n",
       "        vertical-align: middle;\n",
       "    }\n",
       "\n",
       "    .dataframe tbody tr th {\n",
       "        vertical-align: top;\n",
       "    }\n",
       "\n",
       "    .dataframe thead th {\n",
       "        text-align: right;\n",
       "    }\n",
       "</style>\n",
       "<table border=\"1\" class=\"dataframe\">\n",
       "  <thead>\n",
       "    <tr style=\"text-align: right;\">\n",
       "      <th></th>\n",
       "      <th>YEAR</th>\n",
       "      <th>MONTH</th>\n",
       "      <th>DAY</th>\n",
       "      <th>HOUR</th>\n",
       "      <th>MINUTE</th>\n",
       "      <th>HUNDRED_BLOCK</th>\n",
       "      <th>NEIGHBOURHOOD</th>\n",
       "      <th>DATETIME</th>\n",
       "      <th>WEATHER</th>\n",
       "      <th>WEATHERCOND</th>\n",
       "    </tr>\n",
       "  </thead>\n",
       "  <tbody>\n",
       "    <tr>\n",
       "      <th>0</th>\n",
       "      <td>2016</td>\n",
       "      <td>1</td>\n",
       "      <td>1</td>\n",
       "      <td>1</td>\n",
       "      <td>0</td>\n",
       "      <td>X W PENDER ST</td>\n",
       "      <td>Central Business District</td>\n",
       "      <td>2016-01-01 01:00:00</td>\n",
       "      <td>Clear</td>\n",
       "      <td>Good</td>\n",
       "    </tr>\n",
       "    <tr>\n",
       "      <th>1</th>\n",
       "      <td>2016</td>\n",
       "      <td>1</td>\n",
       "      <td>1</td>\n",
       "      <td>13</td>\n",
       "      <td>0</td>\n",
       "      <td>20XX YUKON ST</td>\n",
       "      <td>Mount Pleasant</td>\n",
       "      <td>2016-01-01 13:00:00</td>\n",
       "      <td>Clear</td>\n",
       "      <td>Good</td>\n",
       "    </tr>\n",
       "    <tr>\n",
       "      <th>2</th>\n",
       "      <td>2016</td>\n",
       "      <td>1</td>\n",
       "      <td>1</td>\n",
       "      <td>13</td>\n",
       "      <td>15</td>\n",
       "      <td>11XX GILFORD ST</td>\n",
       "      <td>West End</td>\n",
       "      <td>2016-01-01 13:15:00</td>\n",
       "      <td>Clear</td>\n",
       "      <td>Good</td>\n",
       "    </tr>\n",
       "    <tr>\n",
       "      <th>3</th>\n",
       "      <td>2016</td>\n",
       "      <td>1</td>\n",
       "      <td>2</td>\n",
       "      <td>12</td>\n",
       "      <td>45</td>\n",
       "      <td>ALBERNI ST / DENMAN ST</td>\n",
       "      <td>West End</td>\n",
       "      <td>2016-01-02 12:45:00</td>\n",
       "      <td>Fog</td>\n",
       "      <td>Bad</td>\n",
       "    </tr>\n",
       "    <tr>\n",
       "      <th>4</th>\n",
       "      <td>2016</td>\n",
       "      <td>1</td>\n",
       "      <td>3</td>\n",
       "      <td>13</td>\n",
       "      <td>0</td>\n",
       "      <td>12XX HOWE ST</td>\n",
       "      <td>Central Business District</td>\n",
       "      <td>2016-01-03 13:00:00</td>\n",
       "      <td>Mainly Clear</td>\n",
       "      <td>Good</td>\n",
       "    </tr>\n",
       "    <tr>\n",
       "      <th>5</th>\n",
       "      <td>2016</td>\n",
       "      <td>1</td>\n",
       "      <td>4</td>\n",
       "      <td>7</td>\n",
       "      <td>0</td>\n",
       "      <td>3XX TERMINAL AVE</td>\n",
       "      <td>Strathcona</td>\n",
       "      <td>2016-01-04 07:00:00</td>\n",
       "      <td>Snow</td>\n",
       "      <td>Bad</td>\n",
       "    </tr>\n",
       "    <tr>\n",
       "      <th>6</th>\n",
       "      <td>2016</td>\n",
       "      <td>1</td>\n",
       "      <td>5</td>\n",
       "      <td>6</td>\n",
       "      <td>40</td>\n",
       "      <td>10XX PACIFIC ST</td>\n",
       "      <td>West End</td>\n",
       "      <td>2016-01-05 06:40:00</td>\n",
       "      <td>Rain,Snow</td>\n",
       "      <td>Bad</td>\n",
       "    </tr>\n",
       "    <tr>\n",
       "      <th>7</th>\n",
       "      <td>2016</td>\n",
       "      <td>1</td>\n",
       "      <td>5</td>\n",
       "      <td>7</td>\n",
       "      <td>10</td>\n",
       "      <td>13XX HOWE ST</td>\n",
       "      <td>Central Business District</td>\n",
       "      <td>2016-01-05 07:10:00</td>\n",
       "      <td>Rain</td>\n",
       "      <td>Bad</td>\n",
       "    </tr>\n",
       "  </tbody>\n",
       "</table>\n",
       "</div>"
      ],
      "text/plain": [
       "   YEAR  MONTH  DAY  HOUR  MINUTE           HUNDRED_BLOCK  \\\n",
       "0  2016      1    1     1       0           X W PENDER ST   \n",
       "1  2016      1    1    13       0           20XX YUKON ST   \n",
       "2  2016      1    1    13      15         11XX GILFORD ST   \n",
       "3  2016      1    2    12      45  ALBERNI ST / DENMAN ST   \n",
       "4  2016      1    3    13       0            12XX HOWE ST   \n",
       "5  2016      1    4     7       0        3XX TERMINAL AVE   \n",
       "6  2016      1    5     6      40         10XX PACIFIC ST   \n",
       "7  2016      1    5     7      10            13XX HOWE ST   \n",
       "\n",
       "               NEIGHBOURHOOD             DATETIME       WEATHER WEATHERCOND  \n",
       "0  Central Business District  2016-01-01 01:00:00         Clear        Good  \n",
       "1             Mount Pleasant  2016-01-01 13:00:00         Clear        Good  \n",
       "2                   West End  2016-01-01 13:15:00         Clear        Good  \n",
       "3                   West End  2016-01-02 12:45:00           Fog         Bad  \n",
       "4  Central Business District  2016-01-03 13:00:00  Mainly Clear        Good  \n",
       "5                 Strathcona  2016-01-04 07:00:00          Snow         Bad  \n",
       "6                   West End  2016-01-05 06:40:00     Rain,Snow         Bad  \n",
       "7  Central Business District  2016-01-05 07:10:00          Rain         Bad  "
      ]
     },
     "execution_count": 4,
     "metadata": {},
     "output_type": "execute_result"
    }
   ],
   "source": [
    "crimeDataWithWeather = pd.merge(crimeData, weatherData,  how='inner', on=['YEAR','MONTH','DAY', 'HOUR'])\n",
    "crimeDataWithWeather = crimeDataWithWeather.drop([\"TYPE\", \"LAT\", \"LON\", \"DATE\"], axis=1)\n",
    "crimeDataWithWeather.head(8)"
   ]
  },
  {
   "cell_type": "markdown",
   "metadata": {},
   "source": [
    "# Distribution of the bike theft for each weather type"
   ]
  },
  {
   "cell_type": "code",
   "execution_count": 5,
   "metadata": {},
   "outputs": [
    {
     "data": {
      "text/plain": [
       "Mainly Clear                 724\n",
       "Mostly Cloudy                665\n",
       "Cloudy                       612\n",
       "Rain                         583\n",
       "Clear                        374\n",
       "Rain Showers                 128\n",
       "Rain,Fog                      46\n",
       "Fog                           42\n",
       "Smoke                         33\n",
       "Moderate Rain                 20\n",
       "Snow                          15\n",
       "Drizzle,Fog                   11\n",
       "Moderate Rain,Fog              8\n",
       "Drizzle                        8\n",
       "Rain,Snow                      5\n",
       "Haze                           5\n",
       "Rain,Drizzle,Fog               4\n",
       "Moderate Rain Showers          3\n",
       "Heavy Rain,Fog                 2\n",
       "Heavy Rain                     2\n",
       "Thunderstorms                  1\n",
       "Rain,Drizzle                   1\n",
       "Snow,Fog                       1\n",
       "Snow Showers                   1\n",
       "Rain Showers,Snow Showers      1\n",
       "Moderate Rain Showers,Fog      1\n",
       "Rain,Snow,Fog                  1\n",
       "Rain Showers,Fog               1\n",
       "Name: WEATHER, dtype: int64"
      ]
     },
     "execution_count": 5,
     "metadata": {},
     "output_type": "execute_result"
    }
   ],
   "source": [
    "crimeDataWithWeather[\"WEATHER\"].value_counts()"
   ]
  },
  {
   "cell_type": "code",
   "execution_count": 6,
   "metadata": {},
   "outputs": [
    {
     "data": {
      "text/html": [
       "<div>\n",
       "<style scoped>\n",
       "    .dataframe tbody tr th:only-of-type {\n",
       "        vertical-align: middle;\n",
       "    }\n",
       "\n",
       "    .dataframe tbody tr th {\n",
       "        vertical-align: top;\n",
       "    }\n",
       "\n",
       "    .dataframe thead th {\n",
       "        text-align: right;\n",
       "    }\n",
       "</style>\n",
       "<table border=\"1\" class=\"dataframe\">\n",
       "  <thead>\n",
       "    <tr style=\"text-align: right;\">\n",
       "      <th></th>\n",
       "      <th>WEATHER</th>\n",
       "      <th>COUNT</th>\n",
       "    </tr>\n",
       "  </thead>\n",
       "  <tbody>\n",
       "    <tr>\n",
       "      <th>0</th>\n",
       "      <td>Thunderstorms</td>\n",
       "      <td>1</td>\n",
       "    </tr>\n",
       "    <tr>\n",
       "      <th>1</th>\n",
       "      <td>Rain,Drizzle</td>\n",
       "      <td>1</td>\n",
       "    </tr>\n",
       "    <tr>\n",
       "      <th>2</th>\n",
       "      <td>Rain Showers,Snow Showers</td>\n",
       "      <td>1</td>\n",
       "    </tr>\n",
       "    <tr>\n",
       "      <th>3</th>\n",
       "      <td>Rain Showers,Fog</td>\n",
       "      <td>1</td>\n",
       "    </tr>\n",
       "    <tr>\n",
       "      <th>4</th>\n",
       "      <td>Snow,Fog</td>\n",
       "      <td>1</td>\n",
       "    </tr>\n",
       "    <tr>\n",
       "      <th>5</th>\n",
       "      <td>Moderate Rain Showers,Fog</td>\n",
       "      <td>1</td>\n",
       "    </tr>\n",
       "  </tbody>\n",
       "</table>\n",
       "</div>"
      ],
      "text/plain": [
       "                     WEATHER  COUNT\n",
       "0              Thunderstorms      1\n",
       "1               Rain,Drizzle      1\n",
       "2  Rain Showers,Snow Showers      1\n",
       "3           Rain Showers,Fog      1\n",
       "4                   Snow,Fog      1\n",
       "5  Moderate Rain Showers,Fog      1"
      ]
     },
     "execution_count": 6,
     "metadata": {},
     "output_type": "execute_result"
    }
   ],
   "source": [
    "weatherTypeDist = crimeDataWithWeather[[\"WEATHER\"]].groupby(\"WEATHER\").size().reset_index(name='COUNT')\n",
    "weatherTypeDist = weatherTypeDist.sort_values(\"COUNT\").reset_index(drop=True)\n",
    "weatherTypeDist.head(6)"
   ]
  },
  {
   "cell_type": "code",
   "execution_count": 7,
   "metadata": {},
   "outputs": [
    {
     "data": {
      "image/png": "[encoded data removed]",
      "text/plain": [
       "<Figure size 720x720 with 1 Axes>"
      ]
     },
     "metadata": {
      "needs_background": "light"
     },
     "output_type": "display_data"
    }
   ],
   "source": [
    "plt.figure(figsize=(10,10))\n",
    "plt.title(\"Crime and Weather Distribution\")\n",
    "plt.ylabel(\"Types Of Weather\")\n",
    "plt.xlabel(\"Number of Crime Occurred\")\n",
    "plt.tight_layout()\n",
    "plt.barh(weatherTypeDist[\"WEATHER\"], weatherTypeDist[\"COUNT\"])\n",
    "plt.savefig(\"Crime and Weather Distribution1.png\",dpi=300, bbox_inches = \"tight\")"
   ]
  },
  {
   "cell_type": "markdown",
   "metadata": {},
   "source": [
    "# Distribution for the crime between the good and bad weather condition"
   ]
  },
  {
   "cell_type": "code",
   "execution_count": 8,
   "metadata": {},
   "outputs": [
    {
     "data": {
      "text/html": [
       "<div>\n",
       "<style scoped>\n",
       "    .dataframe tbody tr th:only-of-type {\n",
       "        vertical-align: middle;\n",
       "    }\n",
       "\n",
       "    .dataframe tbody tr th {\n",
       "        vertical-align: top;\n",
       "    }\n",
       "\n",
       "    .dataframe thead th {\n",
       "        text-align: right;\n",
       "    }\n",
       "</style>\n",
       "<table border=\"1\" class=\"dataframe\">\n",
       "  <thead>\n",
       "    <tr style=\"text-align: right;\">\n",
       "      <th></th>\n",
       "      <th>WEATHERCOND</th>\n",
       "      <th>COUNT</th>\n",
       "    </tr>\n",
       "  </thead>\n",
       "  <tbody>\n",
       "    <tr>\n",
       "      <th>0</th>\n",
       "      <td>Bad</td>\n",
       "      <td>923</td>\n",
       "    </tr>\n",
       "    <tr>\n",
       "      <th>1</th>\n",
       "      <td>Good</td>\n",
       "      <td>2375</td>\n",
       "    </tr>\n",
       "  </tbody>\n",
       "</table>\n",
       "</div>"
      ],
      "text/plain": [
       "  WEATHERCOND  COUNT\n",
       "0         Bad    923\n",
       "1        Good   2375"
      ]
     },
     "execution_count": 8,
     "metadata": {},
     "output_type": "execute_result"
    }
   ],
   "source": [
    "weatherCond = crimeDataWithWeather[[\"WEATHERCOND\"]].groupby(\"WEATHERCOND\").size().reset_index(name='COUNT')\n",
    "weatherCond = weatherCond.sort_values(\"COUNT\").reset_index(drop=True)\n",
    "weatherCond.head(6)"
   ]
  },
  {
   "cell_type": "code",
   "execution_count": 9,
   "metadata": {},
   "outputs": [
    {
     "data": {
      "image/png": "[encoded data removed]",
      "text/plain": [
       "<Figure size 360x144 with 1 Axes>"
      ]
     },
     "metadata": {
      "needs_background": "light"
     },
     "output_type": "display_data"
    }
   ],
   "source": [
    "plt.figure(figsize=(5,2))\n",
    "plt.title(\"Crime and Weather Distribution\")\n",
    "plt.xlabel(\"Number of Crime Occurred\")\n",
    "plt.ylabel(\"Weather Conditions\")\n",
    "plt.barh(weatherCond[\"WEATHERCOND\"], weatherCond[\"COUNT\"])\n",
    "plt.savefig(\"Crime and Weather Distribution2.png\",dpi=300, bbox_inches = \"tight\")"
   ]
  },
  {
   "cell_type": "markdown",
   "metadata": {},
   "source": [
    "# Crime distribution over time for good weather"
   ]
  },
  {
   "cell_type": "code",
   "execution_count": 10,
   "metadata": {},
   "outputs": [
    {
     "data": {
      "text/html": [
       "<div>\n",
       "<style scoped>\n",
       "    .dataframe tbody tr th:only-of-type {\n",
       "        vertical-align: middle;\n",
       "    }\n",
       "\n",
       "    .dataframe tbody tr th {\n",
       "        vertical-align: top;\n",
       "    }\n",
       "\n",
       "    .dataframe thead th {\n",
       "        text-align: right;\n",
       "    }\n",
       "</style>\n",
       "<table border=\"1\" class=\"dataframe\">\n",
       "  <thead>\n",
       "    <tr style=\"text-align: right;\">\n",
       "      <th></th>\n",
       "      <th>YEAR</th>\n",
       "      <th>MONTH</th>\n",
       "      <th>DAY</th>\n",
       "      <th>HOUR</th>\n",
       "      <th>MINUTE</th>\n",
       "      <th>HUNDRED_BLOCK</th>\n",
       "      <th>NEIGHBOURHOOD</th>\n",
       "      <th>DATETIME</th>\n",
       "      <th>WEATHER</th>\n",
       "      <th>WEATHERCOND</th>\n",
       "    </tr>\n",
       "  </thead>\n",
       "  <tbody>\n",
       "    <tr>\n",
       "      <th>0</th>\n",
       "      <td>2016</td>\n",
       "      <td>1</td>\n",
       "      <td>1</td>\n",
       "      <td>1</td>\n",
       "      <td>0</td>\n",
       "      <td>X W PENDER ST</td>\n",
       "      <td>Central Business District</td>\n",
       "      <td>2016-01-01 01:00:00</td>\n",
       "      <td>Clear</td>\n",
       "      <td>Good</td>\n",
       "    </tr>\n",
       "    <tr>\n",
       "      <th>1</th>\n",
       "      <td>2016</td>\n",
       "      <td>1</td>\n",
       "      <td>1</td>\n",
       "      <td>13</td>\n",
       "      <td>0</td>\n",
       "      <td>20XX YUKON ST</td>\n",
       "      <td>Mount Pleasant</td>\n",
       "      <td>2016-01-01 13:00:00</td>\n",
       "      <td>Clear</td>\n",
       "      <td>Good</td>\n",
       "    </tr>\n",
       "    <tr>\n",
       "      <th>2</th>\n",
       "      <td>2016</td>\n",
       "      <td>1</td>\n",
       "      <td>1</td>\n",
       "      <td>13</td>\n",
       "      <td>15</td>\n",
       "      <td>11XX GILFORD ST</td>\n",
       "      <td>West End</td>\n",
       "      <td>2016-01-01 13:15:00</td>\n",
       "      <td>Clear</td>\n",
       "      <td>Good</td>\n",
       "    </tr>\n",
       "    <tr>\n",
       "      <th>4</th>\n",
       "      <td>2016</td>\n",
       "      <td>1</td>\n",
       "      <td>3</td>\n",
       "      <td>13</td>\n",
       "      <td>0</td>\n",
       "      <td>12XX HOWE ST</td>\n",
       "      <td>Central Business District</td>\n",
       "      <td>2016-01-03 13:00:00</td>\n",
       "      <td>Mainly Clear</td>\n",
       "      <td>Good</td>\n",
       "    </tr>\n",
       "    <tr>\n",
       "      <th>10</th>\n",
       "      <td>2016</td>\n",
       "      <td>1</td>\n",
       "      <td>5</td>\n",
       "      <td>22</td>\n",
       "      <td>0</td>\n",
       "      <td>9XX BURRARD ST</td>\n",
       "      <td>Central Business District</td>\n",
       "      <td>2016-01-05 22:00:00</td>\n",
       "      <td>Cloudy</td>\n",
       "      <td>Good</td>\n",
       "    </tr>\n",
       "  </tbody>\n",
       "</table>\n",
       "</div>"
      ],
      "text/plain": [
       "    YEAR  MONTH  DAY  HOUR  MINUTE    HUNDRED_BLOCK  \\\n",
       "0   2016      1    1     1       0    X W PENDER ST   \n",
       "1   2016      1    1    13       0    20XX YUKON ST   \n",
       "2   2016      1    1    13      15  11XX GILFORD ST   \n",
       "4   2016      1    3    13       0     12XX HOWE ST   \n",
       "10  2016      1    5    22       0   9XX BURRARD ST   \n",
       "\n",
       "                NEIGHBOURHOOD             DATETIME       WEATHER WEATHERCOND  \n",
       "0   Central Business District  2016-01-01 01:00:00         Clear        Good  \n",
       "1              Mount Pleasant  2016-01-01 13:00:00         Clear        Good  \n",
       "2                    West End  2016-01-01 13:15:00         Clear        Good  \n",
       "4   Central Business District  2016-01-03 13:00:00  Mainly Clear        Good  \n",
       "10  Central Business District  2016-01-05 22:00:00        Cloudy        Good  "
      ]
     },
     "execution_count": 10,
     "metadata": {},
     "output_type": "execute_result"
    }
   ],
   "source": [
    "crimeGoodWeather = crimeDataWithWeather[crimeDataWithWeather[\"WEATHERCOND\"] == \"Good\"]\n",
    "crimeGoodWeather.head(5)"
   ]
  },
  {
   "cell_type": "code",
   "execution_count": 31,
   "metadata": {},
   "outputs": [
    {
     "data": {
      "text/html": [
       "<div>\n",
       "<style scoped>\n",
       "    .dataframe tbody tr th:only-of-type {\n",
       "        vertical-align: middle;\n",
       "    }\n",
       "\n",
       "    .dataframe tbody tr th {\n",
       "        vertical-align: top;\n",
       "    }\n",
       "\n",
       "    .dataframe thead th {\n",
       "        text-align: right;\n",
       "    }\n",
       "</style>\n",
       "<table border=\"1\" class=\"dataframe\">\n",
       "  <thead>\n",
       "    <tr style=\"text-align: right;\">\n",
       "      <th></th>\n",
       "      <th>MONTH</th>\n",
       "      <th>COUNT</th>\n",
       "    </tr>\n",
       "  </thead>\n",
       "  <tbody>\n",
       "    <tr>\n",
       "      <th>0</th>\n",
       "      <td>1</td>\n",
       "      <td>81</td>\n",
       "    </tr>\n",
       "    <tr>\n",
       "      <th>1</th>\n",
       "      <td>2</td>\n",
       "      <td>77</td>\n",
       "    </tr>\n",
       "    <tr>\n",
       "      <th>2</th>\n",
       "      <td>3</td>\n",
       "      <td>98</td>\n",
       "    </tr>\n",
       "    <tr>\n",
       "      <th>3</th>\n",
       "      <td>4</td>\n",
       "      <td>177</td>\n",
       "    </tr>\n",
       "    <tr>\n",
       "      <th>4</th>\n",
       "      <td>5</td>\n",
       "      <td>282</td>\n",
       "    </tr>\n",
       "  </tbody>\n",
       "</table>\n",
       "</div>"
      ],
      "text/plain": [
       "   MONTH  COUNT\n",
       "0      1     81\n",
       "1      2     77\n",
       "2      3     98\n",
       "3      4    177\n",
       "4      5    282"
      ]
     },
     "execution_count": 31,
     "metadata": {},
     "output_type": "execute_result"
    }
   ],
   "source": [
    "crimeGoodWeatherMonth = crimeGoodWeather.groupby(\"MONTH\").size().reset_index(name='COUNT')\n",
    "crimeGoodWeatherMonth.head()"
   ]
  },
  {
   "cell_type": "code",
   "execution_count": 32,
   "metadata": {},
   "outputs": [
    {
     "data": {
      "text/html": [
       "<div>\n",
       "<style scoped>\n",
       "    .dataframe tbody tr th:only-of-type {\n",
       "        vertical-align: middle;\n",
       "    }\n",
       "\n",
       "    .dataframe tbody tr th {\n",
       "        vertical-align: top;\n",
       "    }\n",
       "\n",
       "    .dataframe thead th {\n",
       "        text-align: right;\n",
       "    }\n",
       "</style>\n",
       "<table border=\"1\" class=\"dataframe\">\n",
       "  <thead>\n",
       "    <tr style=\"text-align: right;\">\n",
       "      <th></th>\n",
       "      <th>MONTH</th>\n",
       "      <th>COUNT</th>\n",
       "    </tr>\n",
       "  </thead>\n",
       "  <tbody>\n",
       "    <tr>\n",
       "      <th>0</th>\n",
       "      <td>1</td>\n",
       "      <td>77</td>\n",
       "    </tr>\n",
       "    <tr>\n",
       "      <th>1</th>\n",
       "      <td>2</td>\n",
       "      <td>60</td>\n",
       "    </tr>\n",
       "    <tr>\n",
       "      <th>2</th>\n",
       "      <td>3</td>\n",
       "      <td>91</td>\n",
       "    </tr>\n",
       "    <tr>\n",
       "      <th>3</th>\n",
       "      <td>4</td>\n",
       "      <td>79</td>\n",
       "    </tr>\n",
       "    <tr>\n",
       "      <th>4</th>\n",
       "      <td>5</td>\n",
       "      <td>50</td>\n",
       "    </tr>\n",
       "  </tbody>\n",
       "</table>\n",
       "</div>"
      ],
      "text/plain": [
       "   MONTH  COUNT\n",
       "0      1     77\n",
       "1      2     60\n",
       "2      3     91\n",
       "3      4     79\n",
       "4      5     50"
      ]
     },
     "execution_count": 32,
     "metadata": {},
     "output_type": "execute_result"
    }
   ],
   "source": [
    "crimeBadWeather = crimeDataWithWeather[crimeDataWithWeather[\"WEATHERCOND\"] == \"Bad\"]\n",
    "crimeBadWeatherMonth = crimeBadWeather.groupby(\"MONTH\").size().reset_index(name='COUNT')\n",
    "crimeBadWeatherMonth.head()"
   ]
  },
  {
   "cell_type": "code",
   "execution_count": 39,
   "metadata": {},
   "outputs": [
    {
     "data": {
      "image/png": "[encoded data removed]",
      "text/plain": [
       "<Figure size 720x648 with 1 Axes>"
      ]
     },
     "metadata": {
      "needs_background": "light"
     },
     "output_type": "display_data"
    }
   ],
   "source": [
    "plt.figure(figsize=(10, 9))\n",
    "plt.title(\"Monthly Bike Theft Occurrence For Good Weather Condition\")\n",
    "plt.xlabel(\"Months\")\n",
    "plt.ylabel(\"Number of Bicycle Thefts\")\n",
    "plt.xticks(crimeGoodWeatherMonth['MONTH'])\n",
    "plt.bar(crimeGoodWeatherMonth['MONTH'], crimeGoodWeatherMonth['COUNT'], color='cornflowerblue')\n",
    "plt.savefig(\"Good Weather.png\")"
   ]
  },
  {
   "cell_type": "code",
   "execution_count": 38,
   "metadata": {},
   "outputs": [
    {
     "data": {
      "image/png": "[encoded data removed]",
      "text/plain": [
       "<Figure size 720x648 with 1 Axes>"
      ]
     },
     "metadata": {
      "needs_background": "light"
     },
     "output_type": "display_data"
    }
   ],
   "source": [
    "plt.figure(figsize=(10, 9))\n",
    "plt.title(\"Monthly Bike Theft Occurrence For Bad Weather Condition\")\n",
    "plt.xlabel(\"Months\")\n",
    "plt.ylabel(\"Number of Bicycle Thefts\")\n",
    "plt.xticks(crimeBadWeatherMonth['MONTH'])\n",
    "plt.bar(crimeBadWeatherMonth['MONTH'], crimeBadWeatherMonth['COUNT'], color='cornflowerblue')\n",
    "plt.savefig(\"Bad Weather.png\")"
   ]
  },
  {
   "cell_type": "markdown",
   "metadata": {},
   "source": [
    "# Statistical test"
   ]
  },
  {
   "cell_type": "markdown",
   "metadata": {},
   "source": [
    "### Normality"
   ]
  },
  {
   "cell_type": "code",
   "execution_count": 17,
   "metadata": {},
   "outputs": [
    {
     "name": "stdout",
     "output_type": "stream",
     "text": [
      "Good weather P_value:  0.1718304173475086\n",
      "Bad weather P_value:  0.47530018284672704\n"
     ]
    }
   ],
   "source": [
    "p_value = stats.normaltest(crimeGoodWeatherMonth[\"COUNT\"]).pvalue\n",
    "print(\"Good weather P_value: \", p_value)\n",
    "\n",
    "p_value = stats.normaltest(crimeBadWeatherMonth[\"COUNT\"]).pvalue\n",
    "print(\"Bad weather P_value: \", p_value)"
   ]
  },
  {
   "cell_type": "markdown",
   "metadata": {},
   "source": [
    "Since the p-values are > 0.05, we can conclude that they are normally distributed"
   ]
  },
  {
   "cell_type": "markdown",
   "metadata": {},
   "source": [
    "### T-test (One-tailed test)\n",
    "<br>\n",
    "Null hypothesis: mean of crime for good weather <= mean of crime for bad weather <br>\n",
    "Alternative hypothesis: mean of crime for good weather > mean of crime for bad weather"
   ]
  },
  {
   "cell_type": "code",
   "execution_count": 24,
   "metadata": {},
   "outputs": [
    {
     "name": "stdout",
     "output_type": "stream",
     "text": [
      "T-test p_value:  0.003743215011102955\n",
      "T-test statistic value:  3.2418894401992144\n"
     ]
    }
   ],
   "source": [
    "ttest = stats.ttest_ind(crimeGoodWeatherMonth[\"COUNT\"], crimeBadWeatherMonth[\"COUNT\"])\n",
    "print(\"T-test p_value: \", ttest.pvalue)\n",
    "print(\"T-test statistic value: \", ttest.statistic)"
   ]
  },
  {
   "cell_type": "markdown",
   "metadata": {},
   "source": [
    "Since the p-value < 0.1 (=0.05*2), and the t-statistic > 0, we can conclude that mean of crime for good weather > mean of crime for bad weather <br>"
   ]
  },
  {
   "cell_type": "code",
   "execution_count": null,
   "metadata": {},
   "outputs": [],
   "source": []
  }
 ],
 "metadata": {
  "kernelspec": {
   "display_name": "Python 3",
   "language": "python",
   "name": "python3"
  },
  "language_info": {
   "codemirror_mode": {
    "name": "ipython",
    "version": 3
   },
   "file_extension": ".py",
   "mimetype": "text/x-python",
   "name": "python",
   "nbconvert_exporter": "python",
   "pygments_lexer": "ipython3",
   "version": "3.6.8"
  }
 },
 "nbformat": 4,
 "nbformat_minor": 2
}
